{
  "nbformat": 4,
  "nbformat_minor": 0,
  "metadata": {
    "colab": {
      "provenance": [],
      "authorship_tag": "ABX9TyOBlj0gXSwmobfTY6KWXSJB",
      "include_colab_link": true
    },
    "kernelspec": {
      "name": "python3",
      "display_name": "Python 3"
    },
    "language_info": {
      "name": "python"
    }
  },
  "cells": [
    {
      "cell_type": "markdown",
      "metadata": {
        "id": "view-in-github",
        "colab_type": "text"
      },
      "source": [
        "<a href=\"https://colab.research.google.com/github/Lucia1009/TFG-Red-neuronal-turbinas-eolicas/blob/desarrollo/pruebas_hiperpar%C3%A1metros.ipynb\" target=\"_parent\"><img src=\"https://colab.research.google.com/assets/colab-badge.svg\" alt=\"Open In Colab\"/></a>"
      ]
    },
    {
      "cell_type": "code",
      "execution_count": null,
      "metadata": {
        "id": "C7CkCRq4LfLh"
      },
      "outputs": [],
      "source": [
        "!pip install darts -q\n",
        "!pip install dash -q\n",
        "!pip install tensorflow_decision_forests -q"
      ]
    },
    {
      "cell_type": "code",
      "source": [
        "import pandas as pd\n",
        "import numpy as np\n",
        "import matplotlib.pyplot as plt\n",
        "import math\n",
        "\n",
        "\n",
        "from sklearn.preprocessing import PolynomialFeatures\n",
        "from sklearn.preprocessing import StandardScaler\n",
        "from sklearn.pipeline import Pipeline\n",
        "from sklearn.model_selection import train_test_split\n",
        "\n",
        "\n",
        "import tensorflow as tf\n",
        "from tensorflow import keras\n",
        "from tensorflow.keras import layers\n",
        "from tensorflow.keras.metrics import R2Score\n",
        "import tensorflow_decision_forests as tfdf\n",
        "from sklearn.model_selection import train_test_split\n",
        "from sklearn.metrics import mean_squared_error\n",
        "\n",
        "import dash\n",
        "from dash import dcc\n",
        "from dash import html\n",
        "from dash.dependencies import Input, Output\n",
        "import plotly.express as px\n",
        "import plotly.graph_objects as go\n",
        "\n",
        "from google.colab import drive"
      ],
      "metadata": {
        "id": "2bQ2UhVuOMuI",
        "colab": {
          "base_uri": "https://localhost:8080/",
          "height": 166
        },
        "outputId": "c611247d-6014-40c5-fd2a-c5af240993ef"
      },
      "execution_count": null,
      "outputs": [
        {
          "output_type": "display_data",
          "data": {
            "text/plain": [
              "<IPython.core.display.HTML object>"
            ],
            "text/html": [
              "\n",
              "<p style=\"margin:0px;\">🌲 Try <a href=\"https://ydf.readthedocs.io/en/latest/\" target=\"_blank\">YDF</a>, the successor of\n",
              "    <a href=\"https://www.tensorflow.org/decision_forests\" target=\"_blank\">TensorFlow\n",
              "        Decision Forests</a> using the same algorithms but with more features and faster\n",
              "    training!\n",
              "</p>\n",
              "<div style=\"display: flex; flex-wrap: wrap; margin:5px;max-width: 880px;\">\n",
              "    <div style=\"flex: 1; border-radius: 10px; background-color: F0F0F0; padding: 5px;\">\n",
              "        <p\n",
              "            style=\"font-weight: bold; margin:0px;text-align: center;border-bottom: 1px solid #C0C0C0;margin-bottom: 4px;\">\n",
              "            Old code</p>\n",
              "        <pre style=\"overflow-wrap: anywhere; overflow: auto; margin:0px;font-size: 9pt;\">\n",
              "import tensorflow_decision_forests as tfdf\n",
              "\n",
              "tf_ds = tfdf.keras.pd_dataframe_to_tf_dataset(ds, label=\"l\")\n",
              "model = tfdf.keras.RandomForestModel(label=\"l\")\n",
              "model.fit(tf_ds)\n",
              "</pre>\n",
              "    </div>\n",
              "    <div style=\"width: 5px;\"></div>\n",
              "    <div style=\"flex: 1; border-radius: 10px; background-color: F0F0F0; padding: 5px;\">\n",
              "        <p\n",
              "            style=\"font-weight: bold; margin:0px;text-align: center;border-bottom: 1px solid #C0C0C0;margin-bottom: 4px;\">\n",
              "            New code</p>\n",
              "        <pre style=\"overflow-wrap: anywhere; overflow: auto; margin:0px;font-size: 9pt;\">\n",
              "import ydf\n",
              "\n",
              "model = ydf.RandomForestLearner(label=\"l\").train(ds)\n",
              "</pre>\n",
              "    </div>\n",
              "</div>\n",
              "<p style=\"margin:0px;font-size: 9pt;\">(Learn more in the <a\n",
              "        href=\"https://ydf.readthedocs.io/en/latest/tutorial/migrating_to_ydf/\" target=\"_blank\">migration\n",
              "        guide</a>)</p>\n"
            ]
          },
          "metadata": {}
        }
      ]
    },
    {
      "cell_type": "code",
      "source": [
        "drive.mount('/content/drive')\n",
        "\n",
        "df=pd.read_csv('/content/drive/MyDrive/TFG/elvalle_reparto_saltos_sp75.csv', delimiter=\";\",decimal=\".\",skiprows = [1])\n",
        "\n",
        "df_filtrado=df[(df['TIME'] % 600==540)]\n",
        "print(df_filtrado.shape)\n",
        "print(df.shape)\n",
        "\n",
        "# unique_wd, counts = np.unique(df_filtrado['wd'], return_counts=True)\n",
        "# print(counts, \"\\n\", unique_wd )\n",
        "\n",
        "direcciones={}\n",
        "for i in range(0,360):\n",
        "    # Separo los datos para cada dirección\n",
        "    filtered_data = df_filtrado[(df_filtrado['wd'] <= i) & (df_filtrado['wd'] > (i - 1 ))]\n",
        "\n",
        "    # Selecciono solo las columnas que me interesan\n",
        "    selected_columns = filtered_data[['ws', 'WF_Power', 'wd']]\n",
        "\n",
        "    direcciones[i]=selected_columns\n",
        "    # print(i, direcciones[i])\n",
        "\n",
        "plt.title(\"potencia vs velocidad\")\n",
        "plt.scatter(direcciones[1]['ws'], direcciones[1]['WF_Power'], color=\"blue\")\n",
        "\n",
        "plt.xlabel(\"velocidad\")\n",
        "plt.ylabel(\"potencia\")\n",
        "plt.show()\n",
        "print(len(direcciones))"
      ],
      "metadata": {
        "id": "rrigKJzHONQ_",
        "colab": {
          "base_uri": "https://localhost:8080/",
          "height": 546
        },
        "outputId": "83c643ad-0f06-49b9-ae33-cd01b04d7280"
      },
      "execution_count": null,
      "outputs": [
        {
          "output_type": "stream",
          "name": "stdout",
          "text": [
            "Mounted at /content/drive\n",
            "(21600, 150)\n",
            "(216000, 150)\n"
          ]
        },
        {
          "output_type": "display_data",
          "data": {
            "text/plain": [
              "<Figure size 640x480 with 1 Axes>"
            ],
            "image/png": "[encoded data removed]"
          },
          "metadata": {}
        },
        {
          "output_type": "stream",
          "name": "stdout",
          "text": [
            "360\n"
          ]
        }
      ]
    },
    {
      "cell_type": "code",
      "source": [
        "datos = pd.DataFrame(df_filtrado[['wd', 'ws', 'WF_Power']])\n",
        "\n",
        "datos['sin_wd'] = np.sin(datos['wd']*np.pi/180)\n",
        "datos['cos_wd'] = np.cos(datos['wd']*np.pi/180)\n",
        "datos = datos.drop('wd', axis=1)\n",
        "\n",
        "\n",
        "datos.tail()"
      ],
      "metadata": {
        "id": "fGcsYKF9OUf8"
      },
      "execution_count": null,
      "outputs": []
    },
    {
      "cell_type": "markdown",
      "metadata": {
        "id": "nHAMY1WPz3Ni"
      },
      "source": [
        "## Prueba hiperparámetros polinomial"
      ]
    },
    {
      "cell_type": "code",
      "execution_count": null,
      "metadata": {
        "id": "klKTuaK-ZHxc",
        "colab": {
          "base_uri": "https://localhost:8080/"
        },
        "outputId": "9d9af081-0a87-4d86-ceec-c90e2144718b"
      },
      "outputs": [
        {
          "output_type": "stream",
          "name": "stdout",
          "text": [
            "16200 5400\n",
            "4.0\n",
            "5400.0\n",
            "ws          5.000000e-01\n",
            "WF_Power    2.704126e-41\n",
            "sin_wd      0.000000e+00\n",
            "cos_wd      1.000000e+00\n",
            "Name: 19, dtype: float64 \n",
            " ws          1.000000e+00\n",
            "WF_Power    1.847847e-58\n",
            "sin_wd      0.000000e+00\n",
            "cos_wd      1.000000e+00\n",
            "Name: 29, dtype: float64\n",
            "816\n",
            "Probando grado=11, epoch=40\n",
            "shape 364\n",
            "\u001b[1m169/169\u001b[0m \u001b[32m━━━━━━━━━━━━━━━━━━━━\u001b[0m\u001b[37m\u001b[0m \u001b[1m1s\u001b[0m 2ms/step - R2Score: 0.8952 - loss: 108027185201152.0000 - mae: 7668303.5000 - mse: 108027185201152.0000\n",
            "MSE: 107776953024512.0\n",
            "Probando grado=13, epoch=40\n",
            "shape 560\n"
          ]
        }
      ],
      "source": [
        "#Obtención de datos\n",
        "datos_train = []\n",
        "datos_test = []\n",
        "for i in range(datos.shape[0]):\n",
        "\n",
        "  if i%4==0:\n",
        "      datos_test.append(datos.iloc[i])\n",
        "  else:\n",
        "      datos_train.append(datos.iloc[i])\n",
        "\n",
        "print(len(datos_train), len(datos_test))\n",
        "print(datos.shape[0]/len(datos_test))\n",
        "print(datos.shape[0]/4)\n",
        "\n",
        "print(datos_train[0], \"\\n\", datos_train[1])\n",
        "\n",
        "datos_train = pd.DataFrame(datos_train)\n",
        "datos_test = pd.DataFrame(datos_test)\n",
        "\n",
        "X_train_p = datos_train.drop('WF_Power', axis=1)\n",
        "y_train_p = datos_train['WF_Power']\n",
        "\n",
        "X_test_p = datos_test.drop('WF_Power', axis=1)\n",
        "y_test_p = datos_test['WF_Power']\n",
        "\n",
        "X_train_p.head(10)\n",
        "\n",
        "#Transformamos los datos\n",
        "transformador = Pipeline([('scaler', StandardScaler()),  # normaliza los datos\n",
        "                  ('poly', PolynomialFeatures(degree=15))]) ################ grado\n",
        "\n",
        "X_train_p_transf  = transformador.fit_transform(X_train_p)\n",
        "X_test_p_transf = transformador.transform(X_test_p)\n",
        "\n",
        "print(X_train_p_transf.shape[1])\n",
        "\n",
        "### Creamos el modelo ###\n",
        "\n",
        "def build_model(input_shape):\n",
        "  model_nn = keras.Sequential([\n",
        "    keras.layers.Input(shape=(input_shape,)),\n",
        "    layers.Dense(64, activation='relu'),\n",
        "    layers.Dense(32, activation='relu'),\n",
        "    layers.Dense(1)\n",
        "  ])\n",
        "\n",
        "  optimizer = tf.keras.optimizers.Adam(learning_rate=1e-3)\n",
        "\n",
        "  model_nn.compile(loss='mse',\n",
        "                optimizer=optimizer,\n",
        "                metrics=['mae', 'mse', 'R2Score'])\n",
        "  return model_nn\n",
        "\n",
        "\n",
        "# Definir los rangos de los hiperparámetros\n",
        "param_grid = {\n",
        "    'grado': [11, 13, 15],\n",
        "    'epochs':[40]\n",
        "}\n",
        "\n",
        "best_mse = float('inf')\n",
        "best_params = None\n",
        "\n",
        "#### Búsqueda manual de hiperparámetros ####\n",
        "\n",
        "for grado in param_grid['grado']:\n",
        "  for epochs in param_grid['epochs']:\n",
        "    print(f\"Probando grado={grado}, epoch={epochs}\")\n",
        "\n",
        "    #Transformamos los datos\n",
        "    transformador = Pipeline([('scaler', StandardScaler()),  # normaliza los datos\n",
        "                      ('poly', PolynomialFeatures(degree=grado))])\n",
        "\n",
        "\n",
        "    X_train_p_transf  = transformador.fit_transform(X_train_p)\n",
        "    X_test_p_transf = transformador.transform(X_test_p)\n",
        "\n",
        "    print('shape',X_train_p_transf.shape[1])\n",
        "\n",
        "\n",
        "\n",
        "    model_nn = build_model(X_train_p_transf.shape[1])\n",
        "\n",
        "    #Entrenamos el modelo\n",
        "    model_nn.fit(X_train_p_transf, y_train_p, epochs=epochs, verbose=0)\n",
        "\n",
        "    #Evaluamos el modelo\n",
        "    evaluacion=model_nn.evaluate(X_test_p_transf, y_test_p)\n",
        "\n",
        "\n",
        "    mse = evaluacion[0]\n",
        "    print(f\"MSE: {mse}\")\n",
        "\n",
        "    # Guardar los mejores parámetros\n",
        "    if mse < best_mse*1.1:\n",
        "        best_mse = mse\n",
        "        best_params =( grado, epochs)\n",
        "\n",
        "# Mostrar los mejores hiperparámetros y el MSE asociado\n",
        "print(f\"Mejores parámetros: grado={best_params[0]}, epochs={best_params[1]} con MSE={best_mse}\")\n",
        "\n"
      ]
    },
    {
      "cell_type": "markdown",
      "metadata": {
        "id": "n0fuJQAjmHLH"
      },
      "source": [
        "## Prueba de hiperparámetros random forest"
      ]
    },
    {
      "cell_type": "code",
      "source": [
        "#### DATOS ESTRATIFICADOS ####\n",
        "\n",
        "datos_train = []\n",
        "datos_test = []\n",
        "for i in range(datos.shape[0]):\n",
        "\n",
        "  if i%4==0:\n",
        "      datos_test.append(datos.iloc[i])\n",
        "  else:\n",
        "      datos_train.append(datos.iloc[i])\n",
        "\n",
        "print(len(datos_train), len(datos_test))\n",
        "print(datos.shape[0]/len(datos_test))\n",
        "print(datos.shape[0]/4)\n",
        "\n",
        "print(datos_train[0], \"\\n\", datos_train[1])\n",
        "\n",
        "dftrain = pd.DataFrame(datos_train)\n",
        "dftest = pd.DataFrame(datos_test)\n",
        "\n",
        "# Todas las columnas menos el label\n",
        "using_col_list = [col for col in dftrain.columns if col != 'WF_Power']\n",
        "print(using_col_list)\n",
        "\n",
        "feature_list = []\n",
        "for col in using_col_list:\n",
        "\n",
        "   feature_list.append(tfdf.keras.FeatureUsage(name=col,semantic=tfdf.keras.FeatureSemantic.NUMERICAL))\n",
        "\n",
        "trainds = tfdf.keras.pd_dataframe_to_tf_dataset(dftrain, label='WF_Power',task = tfdf.keras.Task.REGRESSION)\n",
        "testds = tfdf.keras.pd_dataframe_to_tf_dataset(dftest, label='WF_Power',task = tfdf.keras.Task.REGRESSION)\n"
      ],
      "metadata": {
        "id": "EdAXQjftlkTP"
      },
      "execution_count": null,
      "outputs": []
    },
    {
      "cell_type": "code",
      "source": [
        "#### DATOS ALEATORIOS ####\n",
        "\n",
        "# # Dividir los datos en entrenamiento y prueba\n",
        "# dftrain, dftest = train_test_split(datos, test_size=0.2)\n",
        "\n",
        "# # Todas las columnas menos el label\n",
        "# using_col_list = [col for col in dftrain.columns if col != 'WF_Power']\n",
        "\n",
        "# feature_list = []\n",
        "# for col in using_col_list:\n",
        "#     feature_list.append(tfdf.keras.FeatureUsage(name=col, semantic=tfdf.keras.FeatureSemantic.NUMERICAL))\n",
        "\n",
        "# # Convertir los datos a datasets de TensorFlow para TFDF\n",
        "# trainds = tfdf.keras.pd_dataframe_to_tf_dataset(dftrain, label='WF_Power', task=tfdf.keras.Task.REGRESSION)\n",
        "# testds = tfdf.keras.pd_dataframe_to_tf_dataset(dftest, label='WF_Power', task=tfdf.keras.Task.REGRESSION)"
      ],
      "metadata": {
        "id": "Z1Dg3oKollJS"
      },
      "execution_count": null,
      "outputs": []
    },
    {
      "cell_type": "code",
      "source": [
        "#### PRUEBA DE PARÁMETROS Y ENTRENAMIENTO DEL MODELO ####\n",
        "\n",
        "tuner = tfdf.tuner.RandomSearch(num_trials=20)\n",
        "\n",
        "# Hyper-parameters to optimize.\n",
        "tuner.choice(\"max_depth\", [6, 8, 10, 12])\n",
        "tuner.choice(\"num_trees\", [100, 200, 300, 400])\n",
        "\n",
        "model_rf_prueba = tfdf.keras.RandomForestModel(tuner=tuner, task=tfdf.keras.Task.REGRESSION)\n",
        "\n",
        "\n",
        "# Entrenar el modelo\n",
        "model_rf_prueba.fit(trainds)\n",
        "\n",
        "# Predecir y evaluar el rendimiento\n",
        "predictions = model_rf_prueba.predict(testds)\n",
        "mse = mean_squared_error(dftest['WF_Power'], predictions)\n",
        "print(f\"MSE: {mse}\")\n",
        "\n",
        "print(model_rf_prueba.summary())\n"
      ],
      "metadata": {
        "id": "CV-IoH6u0HQQ"
      },
      "execution_count": null,
      "outputs": []
    }
  ]
}
